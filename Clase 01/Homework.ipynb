{
 "cells": [
  {
   "cell_type": "markdown",
   "metadata": {},
   "source": [
    "# Práctica Clase 1 "
   ]
  },
  {
   "cell_type": "markdown",
   "metadata": {},
   "source": [
    "---\n",
    "\n",
    "1) Crear una función capaz de convertir números enteros de base 10 a base 2. Debe recibir como parámetro el número a convertir<br>\n",
    "Consideraciones:<br> \n",
    "a. Tratar de resolverlo sin usar la función format(nro,\"b\")<br>\n",
    "b. El pdf \"conversion-de-decimal-a-binario.pdf\" puede servir de ayuda.\n",
    "\n",
    "---\n"
   ]
  },
  {
   "cell_type": "code",
   "execution_count": 30,
   "metadata": {},
   "outputs": [],
   "source": [
    "def NumeroBinario(numero):\n",
    "    '''\n",
    "    Esta función recibe como parámetro un número entero mayor ó igual a cero y lo devuelve en su \n",
    "    representación binaria. Debe recibir y devolver un valor de tipo entero.\n",
    "    En caso de que el parámetro no sea de tipo entero y mayor a -1 retorna nulo.\n",
    "    '''\n",
    "\n",
    "    if type(numero)!=int :\n",
    "        print(\"debe ingresar un numero entero\")\n",
    "        return None\n",
    "\n",
    "    if numero<0:\n",
    "        print(\"debe ingresar un numero positivo (y entero)\")\n",
    "        return None\n",
    "\n",
    "    \n",
    "\n",
    "    aux = \"\"\n",
    "\n",
    "    resultado = numero\n",
    "    while (resultado>0):\n",
    "        resto = resultado%2\n",
    "        resultado = resultado//2\n",
    "\n",
    "        aux += str(resto)\n",
    "\n",
    "        if resultado==0:\n",
    "            aux += str(resultado)\n",
    "    \n",
    "    #print(aux[::-1])\n",
    "    return aux[::-1]\n"
   ]
  },
  {
   "cell_type": "code",
   "execution_count": 31,
   "metadata": {},
   "outputs": [
    {
     "data": {
      "text/plain": [
       "'0110111'"
      ]
     },
     "execution_count": 31,
     "metadata": {},
     "output_type": "execute_result"
    }
   ],
   "source": [
    "#Ejemplo:\n",
    "num = 55\n",
    "NumeroBinario(num)"
   ]
  },
  {
   "cell_type": "code",
   "execution_count": 32,
   "metadata": {},
   "outputs": [
    {
     "data": {
      "text/plain": [
       "'0b110111'"
      ]
     },
     "execution_count": 32,
     "metadata": {},
     "output_type": "execute_result"
    }
   ],
   "source": [
    "# Para verificar\n",
    "bin(num)"
   ]
  },
  {
   "cell_type": "markdown",
   "metadata": {},
   "source": [
    "---\n",
    "2) Convertir de decimal a binario las fracciones 1/2, 1/3, 1/4, 1/5, 1/6, 1/7, 1/8, 1/9. Luego analizar los resultados y observar qué particularidad se encuentra en los mismos. Se puede usar Python o una calculadora, lo importante es ver si hay algo que podemos notar...\n",
    "\n",
    "---"
   ]
  },
  {
   "cell_type": "markdown",
   "metadata": {},
   "source": [
    "Salida esperada:\n",
    "* Fraccion 1 / 2 :  0.5  y En binario:  0.1\n",
    "* Fraccion 1 / 3 :  0.3333333333333333  y En binario:  0.010101010101010101010101\n",
    "* Fraccion 1 / 4 :  0.25  y En binario:  0.01\n",
    "* Fraccion 1 / 5 :  0.2  y En binario:  0.001100110011001100110011\n",
    "* Fraccion 1 / 6 :  0.16666666666666666  y En binario:  0.001010101010101010101010\n",
    "* Fraccion 1 / 7 :  0.14285714285714285  y En binario:  0.001001001001001001001001\n",
    "* Fraccion 1 / 8 :  0.125  y En binario:  0.001\n",
    "* Fraccion 1 / 9 :  0.1111111111111111  y En binario:  0.000111000111000111000111\n",
    "\n",
    "---"
   ]
  },
  {
   "cell_type": "code",
   "execution_count": 23,
   "metadata": {},
   "outputs": [
    {
     "name": "stdout",
     "output_type": "stream",
     "text": [
      "Fraccion 1/2: 0.5 y En binario:  0.1\n",
      "Fraccion 1/3: 0.3333333333333333 y En binario:  0.0101010101\n",
      "Fraccion 1/4: 0.25 y En binario:  0.01\n",
      "Fraccion 1/5: 0.2 y En binario:  0.0011001100\n",
      "Fraccion 1/6: 0.16666666666666666 y En binario:  0.0010101010\n",
      "Fraccion 1/7: 0.14285714285714285 y En binario:  0.0010010010\n",
      "Fraccion 1/8: 0.125 y En binario:  0.001\n",
      "Fraccion 1/9: 0.1111111111111111 y En binario:  0.0001110001\n"
     ]
    }
   ],
   "source": [
    "def fraccionBinaria(fraccion:str):\n",
    "    num, den = fraccion.split(\"/\")\n",
    "    decimal = int(num)/int(den)\n",
    "\n",
    "    \n",
    "    nro =  decimal\n",
    "    aux = \"\"\n",
    "    cuenta = 0\n",
    "    while (nro!=0 and cuenta<10):\n",
    "        #print(nro)\n",
    "        nro = nro * 2\n",
    "        cuenta +=1\n",
    "\n",
    "        if nro>=1:\n",
    "            aux +=str(1)\n",
    "            nro = nro -1\n",
    "        else:\n",
    "            aux +=str(0)\n",
    "    aux = \"0.\"+aux\n",
    "    print(\"Fraccion \"+fraccion+\": \"+str(decimal)+\" y En binario: \", aux)\n",
    "\n",
    "fraccionBinaria(\"1/2\")\n",
    "fraccionBinaria(\"1/3\")\n",
    "fraccionBinaria(\"1/4\")\n",
    "fraccionBinaria(\"1/5\")\n",
    "fraccionBinaria(\"1/6\")\n",
    "fraccionBinaria(\"1/7\")\n",
    "fraccionBinaria(\"1/8\")\n",
    "fraccionBinaria(\"1/9\")\n"
   ]
  },
  {
   "cell_type": "code",
   "execution_count": 13,
   "metadata": {},
   "outputs": [
    {
     "name": "stdout",
     "output_type": "stream",
     "text": [
      "['__add__', '__class__', '__contains__', '__delattr__', '__dir__', '__doc__', '__eq__', '__format__', '__ge__', '__getattribute__', '__getitem__', '__getnewargs__', '__gt__', '__hash__', '__init__', '__init_subclass__', '__iter__', '__le__', '__len__', '__lt__', '__mod__', '__mul__', '__ne__', '__new__', '__reduce__', '__reduce_ex__', '__repr__', '__rmod__', '__rmul__', '__setattr__', '__sizeof__', '__str__', '__subclasshook__', 'capitalize', 'casefold', 'center', 'count', 'encode', 'endswith', 'expandtabs', 'find', 'format', 'format_map', 'index', 'isalnum', 'isalpha', 'isascii', 'isdecimal', 'isdigit', 'isidentifier', 'islower', 'isnumeric', 'isprintable', 'isspace', 'istitle', 'isupper', 'join', 'ljust', 'lower', 'lstrip', 'maketrans', 'partition', 'removeprefix', 'removesuffix', 'replace', 'rfind', 'rindex', 'rjust', 'rpartition', 'rsplit', 'rstrip', 'split', 'splitlines', 'startswith', 'strip', 'swapcase', 'title', 'translate', 'upper', 'zfill']\n"
     ]
    }
   ],
   "source": [
    "# Para verificar los metodos de los strings\n",
    "print(dir(str))"
   ]
  }
 ],
 "metadata": {
  "kernelspec": {
   "display_name": "Python 3.10.7 64-bit",
   "language": "python",
   "name": "python3"
  },
  "language_info": {
   "codemirror_mode": {
    "name": "ipython",
    "version": 3
   },
   "file_extension": ".py",
   "mimetype": "text/x-python",
   "name": "python",
   "nbconvert_exporter": "python",
   "pygments_lexer": "ipython3",
   "version": "3.10.7"
  },
  "orig_nbformat": 4,
  "vscode": {
   "interpreter": {
    "hash": "91feae2c62c7f7dd8c694bfef93388a2801ca0d10da16ba22787f425e87199c5"
   }
  }
 },
 "nbformat": 4,
 "nbformat_minor": 2
}
