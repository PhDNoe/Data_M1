{
 "cells": [
  {
   "cell_type": "markdown",
   "metadata": {},
   "source": [
    "---\n",
    "# Linked List, coded by Noe 👻👻\n",
    "\n",
    "---"
   ]
  },
  {
   "cell_type": "code",
   "execution_count": 20,
   "metadata": {},
   "outputs": [],
   "source": [
    "class Node():\n",
    "    def __init__(self, value):\n",
    "        self.data = value\n",
    "        self.next = None \n",
    "\n",
    "    def get_data(self):\n",
    "        return self.data\n",
    "\n",
    "    def get_next(self):\n",
    "        return self.next\n",
    "\n",
    "    def set_data(self, value):\n",
    "        self.data = value\n",
    "        \n",
    "    def set_next(self, next):\n",
    "        self.next = next\n",
    "\n",
    "\n",
    "class Linked_List():\n",
    "    def __init__(self):\n",
    "        self.head = None\n",
    "\n",
    "    def is_empty(self):\n",
    "        return self.head==None\n",
    "\n",
    "    # add a node to the beginning of the list\n",
    "    def add_ini(self, value):\n",
    "        node = Node(value)\n",
    "        node.set_next(self.head)\n",
    "        self.head = node\n",
    "\n",
    "    # add a node to the end of the list\n",
    "    def add_end(self, value):\n",
    "        node = Node(value)\n",
    "\n",
    "        if self.head == None:\n",
    "            self.head = node\n",
    "        else:\n",
    "            aux = self.head\n",
    "\n",
    "            while aux.get_next()!=None:\n",
    "                aux = aux.get_next()\n",
    "            \n",
    "            aux.set_next(node)\n",
    "        \n",
    "\n",
    "    # add a node in a sorted Linked List (descending order)\n",
    "    # duplicateds are not drop\n",
    "    def add_sorted(self, value):\n",
    "\n",
    "        node = Node(value)\n",
    "\n",
    "        if self.head==None or self.head.get_data()<value:\n",
    "            node.set_next(self.head)\n",
    "            self.head = node\n",
    "        else:\n",
    "            prev=self.head\n",
    "            act =prev.get_next()\n",
    "\n",
    "            while act!=None and act.get_data()>value:\n",
    "                prev = act\n",
    "                act = act.get_next()\n",
    "\n",
    "            prev.set_next(node)\n",
    "            node.set_next(act)\n",
    "\n",
    "    def show_items(self):\n",
    "        repre = \"\"\n",
    "        aux = self.head\n",
    "\n",
    "        while aux!=None:\n",
    "            repre += str(aux.get_data())+\" --> \"\n",
    "            aux = aux.get_next()\n",
    "\n",
    "        if repre==\"\":\n",
    "            print(\"Empty List\")\n",
    "        else:\n",
    "            print(repre)\n",
    "\n",
    "    # brute force search, returns true if found or false otherwise\n",
    "    def search(self, value):\n",
    "        \n",
    "        if (self.head!=None):\n",
    "            if(self.head.get_data()==value):\n",
    "                return True\n",
    "            else:\n",
    "                aux = self.head\n",
    "                found = False\n",
    "                while (aux!=None and not found):\n",
    "                    if aux.get_data()==value:\n",
    "                        found = True\n",
    "\n",
    "                    aux = aux.get_next()\n",
    "                return found\n",
    "        return False\n",
    "\n",
    "    # if the value is not in list, does not raise exception\n",
    "    # Return True if the operation was successfull\n",
    "    def remove(self, value):\n",
    "        if self.head!=None:\n",
    "            if self.head.get_data()==value:\n",
    "                self.head = self.head.get_next()\n",
    "                return True\n",
    "            else:\n",
    "                prev = self.head\n",
    "                act = prev.get_next()\n",
    "                found = False\n",
    "\n",
    "                while (act!=None and not found):\n",
    "                    if (act.get_data()==value):\n",
    "                        found = True\n",
    "                    else:\n",
    "                        prev = act\n",
    "                        act = act.get_next()\n",
    "\n",
    "                if found:\n",
    "                    prev.set_next(act.get_next())\n",
    "                    return True\n",
    "                return False\n",
    "        return False\n",
    "                    "
   ]
  },
  {
   "cell_type": "markdown",
   "metadata": {},
   "source": [
    "---\n",
    "### Add data and show content\n",
    "\n",
    "---"
   ]
  },
  {
   "cell_type": "code",
   "execution_count": 38,
   "metadata": {},
   "outputs": [
    {
     "name": "stdout",
     "output_type": "stream",
     "text": [
      "--------------------------------------------------------------------------\n",
      "Data inserted -->  [29, 16, 10, 16, 26, 10]\n",
      "--------------------------------------------------------------------------\n",
      "L0 (empty)\n",
      "Empty List\n",
      "--------------------------------------------------------------------------\n",
      "L1 (at the beginning)\n",
      "10 --> 26 --> 16 --> 10 --> 16 --> 29 --> \n",
      "--------------------------------------------------------------------------\n",
      "L2 (at the end)\n",
      "29 --> 16 --> 10 --> 16 --> 26 --> 10 --> \n",
      "--------------------------------------------------------------------------\n",
      "L3 (sorted)\n",
      "29 --> 26 --> 16 --> 16 --> 10 --> 10 --> \n"
     ]
    }
   ],
   "source": [
    "L0 = Linked_List() # Empty\n",
    "L1 = Linked_List() # add at the beginning\n",
    "L2 = Linked_List() # add at the end\n",
    "L3 = Linked_List() # add in a sorted way\n",
    "\n",
    "\n",
    "data = [29, 16, 10, 16, 26, 10]\n",
    "\n",
    "for d in data:\n",
    "    L1.add_ini(d)\n",
    "    L2.add_end(d)\n",
    "    L3.add_sorted(d)\n",
    "\n",
    "sep = \"--------------------------------------------------------------------------\"\n",
    "print(sep)\n",
    "print(\"Data inserted --> \", data)\n",
    "print(sep)\n",
    "print(\"L0 (empty)\")\n",
    "L0.show_items()\n",
    "\n",
    "print(sep)\n",
    "print(\"L1 (at the beginning)\")\n",
    "L1.show_items()\n",
    "\n",
    "print(sep)\n",
    "print(\"L2 (at the end)\")\n",
    "L2.show_items()\n",
    "\n",
    "print(sep)\n",
    "print(\"L3 (sorted)\")\n",
    "L3.show_items()"
   ]
  },
  {
   "cell_type": "markdown",
   "metadata": {},
   "source": [
    "---\n",
    "### Search\n",
    "\n",
    "---"
   ]
  },
  {
   "cell_type": "code",
   "execution_count": 28,
   "metadata": {},
   "outputs": [
    {
     "name": "stdout",
     "output_type": "stream",
     "text": [
      "--------------------------------------------------------------------------\n",
      "10 is in L0? -->  False\n",
      "17 is in L0? -->  False\n",
      "--------------------------------------------------------------------------\n",
      "10 is in L1? -->  True\n",
      "17 is in L1? -->  False\n",
      "--------------------------------------------------------------------------\n",
      "10 is in L2? -->  True\n",
      "17 is in L2? -->  False\n",
      "--------------------------------------------------------------------------\n",
      "10 is in L3? -->  True\n",
      "17 is in L3? -->  False\n",
      "--------------------------------------------------------------------------\n"
     ]
    }
   ],
   "source": [
    "d1 = 10\n",
    "d2 = 17\n",
    "\n",
    "print(sep)\n",
    "print(f\"{d1} is in L0? --> \",L0.search(d1))\n",
    "print(f\"{d2} is in L0? --> \",L0.search(d2))\n",
    "print(sep)\n",
    "print(f\"{d1} is in L1? --> \",L1.search(d1))\n",
    "print(f\"{d2} is in L1? --> \",L1.search(d2))\n",
    "print(sep)\n",
    "print(f\"{d1} is in L2? --> \",L2.search(d1))\n",
    "print(f\"{d2} is in L2? --> \",L2.search(d2))\n",
    "print(sep)\n",
    "print(f\"{d1} is in L3? --> \",L3.search(d1))\n",
    "print(f\"{d2} is in L3? --> \",L3.search(d2))\n",
    "print(sep)"
   ]
  },
  {
   "cell_type": "markdown",
   "metadata": {},
   "source": [
    "---\n",
    "### Remove \n",
    "\n",
    "---"
   ]
  },
  {
   "cell_type": "code",
   "execution_count": 39,
   "metadata": {},
   "outputs": [
    {
     "name": "stdout",
     "output_type": "stream",
     "text": [
      "--------------------------------------------------------------------------\n",
      "success removing value 10 from L0? False\n",
      "Empty List\n"
     ]
    }
   ],
   "source": [
    "# Try to remove 10\n",
    "d1 = 10\n",
    "d2 = 105\n",
    "d3 = 26\n",
    "\n",
    "# L0\n",
    "print(sep)\n",
    "print(f\"success removing value {d1} from L0?\", L0.remove(d1))\n",
    "L0.show_items()\n",
    "\n"
   ]
  },
  {
   "cell_type": "code",
   "execution_count": 40,
   "metadata": {},
   "outputs": [
    {
     "name": "stdout",
     "output_type": "stream",
     "text": [
      "--------------------------------------------------------------------------\n",
      "Before --> \n",
      "10 --> 26 --> 16 --> 10 --> 16 --> 29 --> \n",
      "After --> \n",
      "success removing value 10 from L1? True\n",
      "26 --> 16 --> 10 --> 16 --> 29 --> \n",
      "--------------------------------------------------------------------------\n",
      "success removing value 105 from L1? False\n",
      "26 --> 16 --> 10 --> 16 --> 29 --> \n",
      "--------------------------------------------------------------------------\n",
      "success removing value 26 from L1? True\n",
      "16 --> 10 --> 16 --> 29 --> \n"
     ]
    }
   ],
   "source": [
    "#L1\n",
    "\n",
    "print(sep)\n",
    "print(\"Before --> \")\n",
    "L1.show_items()\n",
    "print(\"After --> \")\n",
    "print(f\"success removing value {d1} from L1?\", L1.remove(d1))\n",
    "L1.show_items()\n",
    "print(sep)\n",
    "print(f\"success removing value {d2} from L1?\", L1.remove(d2))\n",
    "L1.show_items()\n",
    "print(sep)\n",
    "print(f\"success removing value {d3} from L1?\", L1.remove(d3))\n",
    "L1.show_items()\n",
    "\n"
   ]
  },
  {
   "cell_type": "code",
   "execution_count": 41,
   "metadata": {},
   "outputs": [
    {
     "name": "stdout",
     "output_type": "stream",
     "text": [
      "--------------------------------------------------------------------------\n",
      "Before --> \n",
      "29 --> 16 --> 10 --> 16 --> 26 --> 10 --> \n",
      "After --> \n",
      "success removing value 10 from L2? True\n",
      "29 --> 16 --> 16 --> 26 --> 10 --> \n",
      "--------------------------------------------------------------------------\n",
      "success removing value 105 from L2? False\n",
      "29 --> 16 --> 16 --> 26 --> 10 --> \n",
      "--------------------------------------------------------------------------\n",
      "success removing value 26 from L2? True\n",
      "29 --> 16 --> 16 --> 10 --> \n",
      "--------------------------------------------------------------------------\n"
     ]
    }
   ],
   "source": [
    "# L2\n",
    "print(sep)\n",
    "print(\"Before --> \")\n",
    "L2.show_items()\n",
    "print(\"After --> \")\n",
    "print(f\"success removing value {d1} from L2?\", L2.remove(d1))\n",
    "L2.show_items()\n",
    "print(sep)\n",
    "print(f\"success removing value {d2} from L2?\", L2.remove(d2))\n",
    "L2.show_items()\n",
    "print(sep)\n",
    "print(f\"success removing value {d3} from L2?\", L2.remove(d3))\n",
    "L2.show_items()\n",
    "print(sep)\n",
    "\n",
    "\n",
    "\n"
   ]
  },
  {
   "cell_type": "code",
   "execution_count": 42,
   "metadata": {},
   "outputs": [
    {
     "name": "stdout",
     "output_type": "stream",
     "text": [
      "Before --> \n",
      "29 --> 26 --> 16 --> 16 --> 10 --> 10 --> \n",
      "After --> \n",
      "success removing value 10 from L3? True\n",
      "29 --> 26 --> 16 --> 16 --> 10 --> \n",
      "--------------------------------------------------------------------------\n",
      "success removing value 105 from L3? False\n",
      "29 --> 26 --> 16 --> 16 --> 10 --> \n",
      "--------------------------------------------------------------------------\n",
      "success removing value 26 from L3? True\n",
      "29 --> 16 --> 16 --> 10 --> \n",
      "--------------------------------------------------------------------------\n"
     ]
    }
   ],
   "source": [
    "# L3\n",
    "print(\"Before --> \")\n",
    "L3.show_items()\n",
    "print(\"After --> \")\n",
    "print(f\"success removing value {d1} from L3?\", L3.remove(d1))\n",
    "L3.show_items()\n",
    "print(sep)\n",
    "print(f\"success removing value {d2} from L3?\", L3.remove(d2))\n",
    "L3.show_items()\n",
    "print(sep)\n",
    "print(f\"success removing value {d3} from L3?\", L3.remove(d3))\n",
    "L3.show_items()\n",
    "print(sep)"
   ]
  }
 ],
 "metadata": {
  "kernelspec": {
   "display_name": "Python 3.10.7 64-bit",
   "language": "python",
   "name": "python3"
  },
  "language_info": {
   "codemirror_mode": {
    "name": "ipython",
    "version": 3
   },
   "file_extension": ".py",
   "mimetype": "text/x-python",
   "name": "python",
   "nbconvert_exporter": "python",
   "pygments_lexer": "ipython3",
   "version": "3.10.7"
  },
  "orig_nbformat": 4,
  "vscode": {
   "interpreter": {
    "hash": "91feae2c62c7f7dd8c694bfef93388a2801ca0d10da16ba22787f425e87199c5"
   }
  }
 },
 "nbformat": 4,
 "nbformat_minor": 2
}
