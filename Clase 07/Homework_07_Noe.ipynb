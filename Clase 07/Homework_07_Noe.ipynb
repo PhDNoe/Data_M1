{
 "cells": [
  {
   "cell_type": "markdown",
   "metadata": {},
   "source": [
    "# Práctica Clase 7"
   ]
  },
  {
   "cell_type": "markdown",
   "metadata": {},
   "source": [
    "---\n",
    "1) Diseñar una clase que permita trabajar con un árbol binario y que contenga los métodos:<br>\n",
    "    * add_node: para insertar un dato<br>\n",
    "    * search: que devuelva True o False si existe o no un dato<br>\n",
    "    * show: que imprima por pantalla los valores del árbol<br>\n",
    "\n",
    "Nota: Se puede utilizar la recursividad\n",
    "Nota2: Noelia le cambio los nombres a los metodos solicitados\n",
    "\n",
    "Notebook de Noe: 👻👻\n",
    "\n",
    "---\n"
   ]
  },
  {
   "cell_type": "code",
   "execution_count": 19,
   "metadata": {},
   "outputs": [],
   "source": [
    "class Node():\n",
    "    def __init__(self, data):\n",
    "        self.value = data\n",
    "        self.left = None\n",
    "        self.right = None"
   ]
  },
  {
   "cell_type": "code",
   "execution_count": 57,
   "metadata": {},
   "outputs": [],
   "source": [
    "# Implemented Binary search tree\n",
    "class BinaryTree():\n",
    "\n",
    "    def __init__(self):\n",
    "        self.root = None\n",
    "\n",
    "    def add_node(self, value):\n",
    "        newNode = Node(value);\n",
    "\n",
    "        if self.root == None:\n",
    "            self.root = newNode\n",
    "        else:            \n",
    "            self.__insert_node(self.root, newNode)\n",
    "\n",
    "\n",
    "    # Auxiliar method used in add_node. Find the correct position of newNode recursively\n",
    "    # Private method\n",
    "    def __insert_node(self, node, newNode):\n",
    "        if node!=None:\n",
    "            if node.value>newNode.value:\n",
    "                if node.left is None:\n",
    "                    node.left = newNode\n",
    "                else:\n",
    "                    self.__insert_node(node.left, newNode)\n",
    "            else:\n",
    "                if node.right is None:\n",
    "                    node.right = newNode\n",
    "                else:\n",
    "                    self.__insert_node(node.right, newNode)\n",
    "\n",
    "\n",
    "    def show(self, opt=1):\n",
    "        # 1 = inOrder, 2 = preOrder, 3 = postOrder\n",
    "        \n",
    "        if opt == 1:\n",
    "            self.__inOrder(self.root)\n",
    "        elif opt == 2:\n",
    "            self.__preOrder(self.root)\n",
    "        elif opt ==3:\n",
    "            self.__postOrder(self.root)\n",
    "        else:\n",
    "            self.__inOrder(self.root)\n",
    "\n",
    "        \n",
    "    # private method\n",
    "    def __inOrder(self, node):\n",
    "        if node is not None:\n",
    "            # left child\n",
    "            self.__inOrder(node.left)\n",
    "\n",
    "            # show root\n",
    "            print(node.value)\n",
    "\n",
    "            # right child\n",
    "            self.__inOrder(node.right)\n",
    "\n",
    "\n",
    "    # private method\n",
    "    def __preOrder(self, node):\n",
    "        if node!=None:\n",
    "            # show root\n",
    "            print(node.value)\n",
    "\n",
    "            # left child\n",
    "            self.__preOrder(node.left)\n",
    "\n",
    "            # right child\n",
    "            self.__preOrder(node.right)\n",
    "\n",
    "\n",
    "    # private method\n",
    "    def __postOrder(self, node):\n",
    "        if node!=None:\n",
    "            # left child\n",
    "            self.__postOrder(node.left)\n",
    "\n",
    "            # right child\n",
    "            self.__postOrder(node.right)\n",
    "\n",
    "            # show root\n",
    "            print(node.value)\n",
    "\n",
    "\n",
    "\n",
    "    def search(self, value):\n",
    "        if self.root is None:\n",
    "            return False\n",
    "        \n",
    "        act = self.root\n",
    "        val= self.__inner_search(act, value)\n",
    "        return val\n",
    "\n",
    "\n",
    "    # private method\n",
    "    def __inner_search(self, node, value):\n",
    "        if node is not None:\n",
    "            if node.value == value:\n",
    "                return True\n",
    "            else:\n",
    "                if value>node.value:\n",
    "                    return self.__inner_search(node.right, value)\n",
    "                else:\n",
    "                    return self.__inner_search(node.left, value)\n",
    "        else:\n",
    "            return False"
   ]
  },
  {
   "cell_type": "markdown",
   "metadata": {},
   "source": [
    "---\n",
    "### Create a new Binary Tree\n",
    "* Add several nodes\n",
    "* Show values (inOrder, preOrder, postOrder)\n",
    "\n",
    "---"
   ]
  },
  {
   "cell_type": "code",
   "execution_count": 58,
   "metadata": {},
   "outputs": [
    {
     "name": "stdout",
     "output_type": "stream",
     "text": [
      "---------------------------------------------------------------------------\n",
      "Binary Tree bt\n",
      "1\n",
      "4\n",
      "8\n",
      "18\n",
      "---------------------------------------------------------------------------\n",
      "Binary Tree bt2 (Empty)\n"
     ]
    }
   ],
   "source": [
    "bt = BinaryTree()\n",
    "bt.add_node(8)\n",
    "bt.add_node(18)\n",
    "bt.add_node(4)\n",
    "bt.add_node(1)\n",
    "\n",
    "sep = \"---------------------------------------------------------------------------\"\n",
    "print(sep)\n",
    "print(\"Binary Tree bt\")\n",
    "bt.show(1)\n",
    "\n",
    "\n",
    "bt2 = BinaryTree() # Empty Binary Tree\n",
    "print(sep)\n",
    "print(\"Binary Tree bt2 (Empty)\")\n",
    "bt2.show()"
   ]
  },
  {
   "cell_type": "markdown",
   "metadata": {},
   "source": [
    "---\n",
    "### Search\n",
    "\n",
    "---"
   ]
  },
  {
   "cell_type": "code",
   "execution_count": 59,
   "metadata": {},
   "outputs": [
    {
     "name": "stdout",
     "output_type": "stream",
     "text": [
      "is 18 in the Binary Tree bt ? -->  True\n",
      "is 33 in the Binary Tree bt ? -->  False\n"
     ]
    }
   ],
   "source": [
    "d1 = 18\n",
    "d2 = 33\n",
    "\n",
    "print(f\"is {d1} in the Binary Tree bt ? --> \",bt.search(d1))\n",
    "print(f\"is {d2} in the Binary Tree bt ? --> \",bt.search(d2))"
   ]
  }
 ],
 "metadata": {
  "kernelspec": {
   "display_name": "Python 3.10.7 64-bit",
   "language": "python",
   "name": "python3"
  },
  "language_info": {
   "codemirror_mode": {
    "name": "ipython",
    "version": 3
   },
   "file_extension": ".py",
   "mimetype": "text/x-python",
   "name": "python",
   "nbconvert_exporter": "python",
   "pygments_lexer": "ipython3",
   "version": "3.10.7"
  },
  "vscode": {
   "interpreter": {
    "hash": "91feae2c62c7f7dd8c694bfef93388a2801ca0d10da16ba22787f425e87199c5"
   }
  }
 },
 "nbformat": 4,
 "nbformat_minor": 4
}
