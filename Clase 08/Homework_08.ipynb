{
 "cells": [
  {
   "cell_type": "markdown",
   "metadata": {},
   "source": [
    "# Práctica Clase 8"
   ]
  },
  {
   "cell_type": "markdown",
   "metadata": {},
   "source": [
    "<h2>Algoritmos de Ordenamiento</h2>"
   ]
  },
  {
   "cell_type": "markdown",
   "metadata": {},
   "source": [
    "1) Dada la función provista 'ListaDesordenada' implementar los algoritmos de ordenamiento vistos en clase:\n",
    "<ul>\n",
    "    <ol>Selección</ol>\n",
    "    <ol>Burbuja</ol>\n",
    "</ul>"
   ]
  },
  {
   "cell_type": "code",
   "execution_count": 1,
   "metadata": {},
   "outputs": [],
   "source": [
    "def ListaDesordenada(desorden, cantidad): \n",
    "    '''\n",
    "    Esta función devuelve una lista\n",
    "    desorden = es un porcentaje de desordenamiento\n",
    "    cantidad = cantidad de elementos de la lista\n",
    "    '''\n",
    "    import random as r\n",
    "    import numpy as np\n",
    "\n",
    "    lista = list(range(0, cantidad))\n",
    "\n",
    "    desorden = int(cantidad * desorden / 100)\n",
    "\n",
    "    while (desorden > 0):\n",
    "        i = r.randint(0,cantidad-1)\n",
    "        j = r.randint(0,cantidad-1)\n",
    "        aux = lista[i]\n",
    "        lista[i] = lista[j]\n",
    "        lista[j] = aux\n",
    "        desorden-=1\n",
    "\n",
    "    return lista"
   ]
  },
  {
   "cell_type": "code",
   "execution_count": 2,
   "metadata": {},
   "outputs": [],
   "source": [
    "L1 = ListaDesordenada(90, 20) #Lista de 20 elementos un 90% desordenada"
   ]
  },
  {
   "cell_type": "code",
   "execution_count": 3,
   "metadata": {},
   "outputs": [],
   "source": [
    "L2 = ListaDesordenada(50, 20) #Lista de 20 elementos un 50% desordenada"
   ]
  },
  {
   "cell_type": "code",
   "execution_count": 10,
   "metadata": {},
   "outputs": [],
   "source": [
    "L3 = ListaDesordenada(0, 20) #Lista de 20 elementos un 0% desordenada"
   ]
  },
  {
   "cell_type": "markdown",
   "metadata": {},
   "source": [
    "---\n",
    "### Metodo de ordenamiento por seleccion\n",
    "\n",
    "---"
   ]
  },
  {
   "cell_type": "code",
   "execution_count": 6,
   "metadata": {},
   "outputs": [],
   "source": [
    "def ord_por_seleccion(lista):\n",
    "    long = len(lista)\n",
    "\n",
    "    for i in range(long - 1):\n",
    "        for j in range(i+1, long):\n",
    "            \n",
    "            if lista[i] > lista[j]:\n",
    "                #swap            \n",
    "                lista[i], lista[j] = lista[j], lista[i]\n",
    "    return lista"
   ]
  },
  {
   "cell_type": "markdown",
   "metadata": {},
   "source": [
    "---\n",
    "#### Muestro las listas antes de ordenarlas\n",
    "\n",
    "---"
   ]
  },
  {
   "cell_type": "code",
   "execution_count": 11,
   "metadata": {},
   "outputs": [
    {
     "name": "stdout",
     "output_type": "stream",
     "text": [
      "Antes de ordenar\n",
      "--------------------------------------------------------------\n",
      "Lista L1 -->  [16, 1, 5, 13, 11, 2, 3, 10, 9, 19, 14, 4, 12, 8, 7, 0, 6, 15, 18, 17]\n",
      "Lista L2 -->  [16, 1, 18, 0, 9, 5, 6, 7, 8, 17, 10, 11, 15, 4, 19, 12, 2, 13, 3, 14]\n",
      "Lista L3 -->  [0, 1, 2, 3, 4, 5, 6, 7, 8, 9, 10, 11, 12, 13, 14, 15, 16, 17, 18, 19]\n",
      "--------------------------------------------------------------\n"
     ]
    }
   ],
   "source": [
    "sep = \"--------------------------------------------------------------\"\n",
    "print(\"Antes de ordenar\")\n",
    "print(sep)\n",
    "print(\"Lista L1 --> \", L1)\n",
    "print(\"Lista L2 --> \", L2)\n",
    "print(\"Lista L3 --> \", L3)\n",
    "print(sep)"
   ]
  },
  {
   "cell_type": "markdown",
   "metadata": {},
   "source": [
    "---\n",
    "#### Ordeno las listas y las muestro\n",
    "\n",
    "---"
   ]
  },
  {
   "cell_type": "code",
   "execution_count": 12,
   "metadata": {},
   "outputs": [
    {
     "name": "stdout",
     "output_type": "stream",
     "text": [
      "--------------------------------------------------------------\n",
      "Despues de ordenar - Metodo seleccion\n",
      "Lista L1 -->  [0, 1, 2, 3, 4, 5, 6, 7, 8, 9, 10, 11, 12, 13, 14, 15, 16, 17, 18, 19]\n",
      "Lista L2 -->  [0, 1, 2, 3, 4, 5, 6, 7, 8, 9, 10, 11, 12, 13, 14, 15, 16, 17, 18, 19]\n",
      "Lista L3 -->  [0, 1, 2, 3, 4, 5, 6, 7, 8, 9, 10, 11, 12, 13, 14, 15, 16, 17, 18, 19]\n",
      "--------------------------------------------------------------\n"
     ]
    }
   ],
   "source": [
    "print(sep)\n",
    "print(\"Despues de ordenar - Metodo seleccion\")\n",
    "L1 = ord_por_seleccion(L1)\n",
    "L2 = ord_por_seleccion(L2)\n",
    "L2 = ord_por_seleccion(L3)\n",
    "print(\"Lista L1 --> \", L1)\n",
    "print(\"Lista L2 --> \", L2)\n",
    "print(\"Lista L3 --> \", L3)\n",
    "print(sep)"
   ]
  },
  {
   "cell_type": "markdown",
   "metadata": {},
   "source": [
    "---\n",
    "### Método de Ordenamiento por Burbujeo\n",
    "\n",
    "---"
   ]
  },
  {
   "cell_type": "code",
   "execution_count": 13,
   "metadata": {},
   "outputs": [],
   "source": [
    "def ord_por_burbujeo(lista):\n",
    "    \n",
    "    long = len(lista)\n",
    "\n",
    "    for i in range(long-1):\n",
    "        for j in range(long-1):\n",
    "            if lista[j]>lista[j+1]:\n",
    "                lista[j], lista[j+1] = lista[j+1], lista[j]\n",
    "    return lista"
   ]
  },
  {
   "cell_type": "markdown",
   "metadata": {},
   "source": [
    "---\n",
    "#### Creo 3 listas\n",
    "\n",
    "---\n"
   ]
  },
  {
   "cell_type": "code",
   "execution_count": null,
   "metadata": {},
   "outputs": [],
   "source": [
    "L1 = ListaDesordenada(90, 20) #Lista de 20 elementos un 90% desordenada\n",
    "L2 = ListaDesordenada(50, 20) #Lista de 20 elementos un 50% desordenada\n",
    "L3 = ListaDesordenada(0, 20) #Lista de 20 elementos un 0% desordenada"
   ]
  },
  {
   "cell_type": "markdown",
   "metadata": {},
   "source": [
    "---\n",
    "#### Muestro las 3 listas antes de ordenarlas\n",
    "\n",
    "---"
   ]
  },
  {
   "cell_type": "code",
   "execution_count": 16,
   "metadata": {},
   "outputs": [
    {
     "name": "stdout",
     "output_type": "stream",
     "text": [
      "Antes de ordenar\n",
      "--------------------------------------------------------------\n",
      "Lista L1 -->  [0, 1, 2, 3, 4, 5, 6, 7, 8, 9, 10, 11, 12, 13, 14, 15, 16, 17, 18, 19]\n",
      "Lista L2 -->  [0, 1, 2, 3, 4, 5, 6, 7, 8, 9, 10, 11, 12, 13, 14, 15, 16, 17, 18, 19]\n",
      "Lista L3 -->  [0, 1, 2, 3, 4, 5, 6, 7, 8, 9, 10, 11, 12, 13, 14, 15, 16, 17, 18, 19]\n",
      "--------------------------------------------------------------\n"
     ]
    }
   ],
   "source": [
    "sep = \"--------------------------------------------------------------\"\n",
    "print(\"Antes de ordenar\")\n",
    "print(sep)\n",
    "print(\"Lista L1 --> \", L1)\n",
    "print(\"Lista L2 --> \", L2)\n",
    "print(\"Lista L3 --> \", L3)\n",
    "print(sep)"
   ]
  },
  {
   "cell_type": "markdown",
   "metadata": {},
   "source": [
    "---\n",
    "#### Ordeno las listas y las muestro\n",
    "\n",
    "---\n"
   ]
  },
  {
   "cell_type": "code",
   "execution_count": 17,
   "metadata": {},
   "outputs": [
    {
     "name": "stdout",
     "output_type": "stream",
     "text": [
      "--------------------------------------------------------------\n",
      "Despues de ordenar - Metodo seleccion\n",
      "Lista L1 -->  [0, 1, 2, 3, 4, 5, 6, 7, 8, 9, 10, 11, 12, 13, 14, 15, 16, 17, 18, 19]\n",
      "Lista L2 -->  [0, 1, 2, 3, 4, 5, 6, 7, 8, 9, 10, 11, 12, 13, 14, 15, 16, 17, 18, 19]\n",
      "Lista L3 -->  [0, 1, 2, 3, 4, 5, 6, 7, 8, 9, 10, 11, 12, 13, 14, 15, 16, 17, 18, 19]\n",
      "--------------------------------------------------------------\n"
     ]
    }
   ],
   "source": [
    "print(sep)\n",
    "print(\"Despues de ordenar - Metodo seleccion\")\n",
    "L1 = ord_por_burbujeo(L1)\n",
    "L2 = ord_por_burbujeo(L2)\n",
    "L2 = ord_por_burbujeo(L3)\n",
    "print(\"Lista L1 --> \", L1)\n",
    "print(\"Lista L2 --> \", L2)\n",
    "print(\"Lista L3 --> \", L3)\n",
    "print(sep)"
   ]
  },
  {
   "cell_type": "markdown",
   "metadata": {},
   "source": [
    "---\n",
    "#### 2) Para las siguientes instancias, probar el tiempo de duración del ordenamiento de cada uno de los métodos\n",
    "\n",
    "---"
   ]
  },
  {
   "cell_type": "code",
   "execution_count": 18,
   "metadata": {},
   "outputs": [],
   "source": [
    "import time"
   ]
  },
  {
   "cell_type": "code",
   "execution_count": 19,
   "metadata": {},
   "outputs": [
    {
     "name": "stdout",
     "output_type": "stream",
     "text": [
      "Llevo 0.0 segundos en total.\n"
     ]
    }
   ],
   "source": [
    "start_time_total = time.time()\n",
    "total_time_total = time.time() - start_time_total\n",
    "print(\"Llevo {} segundos en total.\".format(total_time_total))"
   ]
  },
  {
   "cell_type": "code",
   "execution_count": 36,
   "metadata": {},
   "outputs": [],
   "source": [
    "N = 1000\n"
   ]
  },
  {
   "cell_type": "code",
   "execution_count": 37,
   "metadata": {},
   "outputs": [],
   "source": [
    "lis1 = ListaDesordenada(100, N)\n",
    "lis2 = lis1.copy()\n",
    "lis3 = lis1.copy()"
   ]
  },
  {
   "cell_type": "code",
   "execution_count": 38,
   "metadata": {},
   "outputs": [
    {
     "data": {
      "text/plain": [
       "1713461179968"
      ]
     },
     "execution_count": 38,
     "metadata": {},
     "output_type": "execute_result"
    }
   ],
   "source": [
    "id(lis1)"
   ]
  },
  {
   "cell_type": "code",
   "execution_count": 39,
   "metadata": {},
   "outputs": [
    {
     "data": {
      "text/plain": [
       "1713456948352"
      ]
     },
     "execution_count": 39,
     "metadata": {},
     "output_type": "execute_result"
    }
   ],
   "source": [
    "id(lis2)"
   ]
  },
  {
   "cell_type": "code",
   "execution_count": 40,
   "metadata": {},
   "outputs": [
    {
     "data": {
      "text/plain": [
       "1711580721984"
      ]
     },
     "execution_count": 40,
     "metadata": {},
     "output_type": "execute_result"
    }
   ],
   "source": [
    "id(lis3)"
   ]
  },
  {
   "cell_type": "code",
   "execution_count": 41,
   "metadata": {},
   "outputs": [
    {
     "name": "stdout",
     "output_type": "stream",
     "text": [
      "Llevo 0.14966440200805664 segundos en total.\n"
     ]
    }
   ],
   "source": [
    "start_time_total = time.time()\n",
    "lis1 = ord_por_burbujeo(lis1)\n",
    "total_time_total = time.time() - start_time_total\n",
    "print(\"Llevo {} segundos en total.\".format(total_time_total))"
   ]
  },
  {
   "cell_type": "code",
   "execution_count": 42,
   "metadata": {},
   "outputs": [
    {
     "name": "stdout",
     "output_type": "stream",
     "text": [
      "Llevo 0.07785320281982422 segundos en total.\n"
     ]
    }
   ],
   "source": [
    "start_time_total = time.time()\n",
    "lis2 = ord_por_seleccion(lis2)\n",
    "total_time_total = time.time() - start_time_total\n",
    "print(\"Llevo {} segundos en total.\".format(total_time_total))"
   ]
  }
 ],
 "metadata": {
  "kernelspec": {
   "display_name": "Python 3.10.7 64-bit",
   "language": "python",
   "name": "python3"
  },
  "language_info": {
   "codemirror_mode": {
    "name": "ipython",
    "version": 3
   },
   "file_extension": ".py",
   "mimetype": "text/x-python",
   "name": "python",
   "nbconvert_exporter": "python",
   "pygments_lexer": "ipython3",
   "version": "3.10.7"
  },
  "vscode": {
   "interpreter": {
    "hash": "91feae2c62c7f7dd8c694bfef93388a2801ca0d10da16ba22787f425e87199c5"
   }
  }
 },
 "nbformat": 4,
 "nbformat_minor": 4
}
